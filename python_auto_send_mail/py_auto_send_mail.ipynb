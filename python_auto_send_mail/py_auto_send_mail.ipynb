{
 "cells": [
  {
   "cell_type": "code",
   "execution_count": 37,
   "id": "c8dd34b6",
   "metadata": {},
   "outputs": [
    {
     "name": "stderr",
     "output_type": "stream",
     "text": [
      "C:\\Users\\Tom60229\\AppData\\Local\\Temp/ipykernel_24656/3880567339.py:11: DeprecationWarning: find_element_by_* commands are deprecated. Please use find_element() instead\n",
      "  txtBox = browser.find_element_by_xpath('/html/body/div[1]/div[1]/div[2]/div/div[2]/div/div/div[2]/div/div[1]/div/form/span/section/div/div/div[1]/div/div[1]/div/div[1]/input')\n",
      "C:\\Users\\Tom60229\\AppData\\Local\\Temp/ipykernel_24656/3880567339.py:15: DeprecationWarning: find_element_by_* commands are deprecated. Please use find_element() instead\n",
      "  clk_continue_Box = browser.find_element_by_xpath('/html/body/div[1]/div[1]/div[2]/div/div[2]/div/div/div[2]/div/div[2]/div/div[1]/div/div/button/span')\n",
      "C:\\Users\\Tom60229\\AppData\\Local\\Temp/ipykernel_24656/3880567339.py:19: DeprecationWarning: find_element_by_* commands are deprecated. Please use find_element() instead\n",
      "  txtBox1 = browser.find_element_by_xpath('/html/body/div[1]/div[1]/div[2]/div/div[2]/div/div/div[2]/div/div[1]/div/form/span/section/div/div/div[1]/div[1]/div/div/div/div/div[1]/div/div[1]/input')\n",
      "C:\\Users\\Tom60229\\AppData\\Local\\Temp/ipykernel_24656/3880567339.py:23: DeprecationWarning: find_element_by_* commands are deprecated. Please use find_element() instead\n",
      "  clk_continue_Box_sec = browser.find_element_by_xpath('/html/body/div[1]/div[1]/div[2]/div/div[2]/div/div/div[2]/div/div[2]/div/div[1]/div/div/button/span')\n",
      "C:\\Users\\Tom60229\\AppData\\Local\\Temp/ipykernel_24656/3880567339.py:27: DeprecationWarning: find_element_by_* commands are deprecated. Please use find_element() instead\n",
      "  clk_continue_Box_sec = browser.find_element_by_xpath('/html/body/div[7]/div[3]/div/div[2]/div[1]/div[1]/div[1]/div/div')\n",
      "C:\\Users\\Tom60229\\AppData\\Local\\Temp/ipykernel_24656/3880567339.py:31: DeprecationWarning: find_element_by_* commands are deprecated. Please use find_element() instead\n",
      "  txt_gmail_Box = browser.find_element_by_xpath('/html/body/div[19]/div/div/div/div[1]/div[5]/div[1]/div[1]/div/div/div/div[3]/div/div/div[4]/table/tbody/tr/td[2]/form/div[1]/table/tbody/tr[1]/td[2]/div/div/div[1]/div/div[3]/div/div/div/div/div/input')\n",
      "C:\\Users\\Tom60229\\AppData\\Local\\Temp/ipykernel_24656/3880567339.py:35: DeprecationWarning: find_element_by_* commands are deprecated. Please use find_element() instead\n",
      "  clk_send_p_Box = browser.find_element_by_xpath('/html/body/div[19]/div/div/div/div[1]/div[5]/div[1]/div[1]/div/div/div/div[3]/div/div/div[4]/table/tbody/tr/td[2]/form/div[1]/table/tbody/tr[1]/td[2]/div/div/div[1]/div/div[3]/div/div/div/div/div/input')\n",
      "C:\\Users\\Tom60229\\AppData\\Local\\Temp/ipykernel_24656/3880567339.py:39: DeprecationWarning: find_element_by_* commands are deprecated. Please use find_element() instead\n",
      "  txt_title_Box = browser.find_element_by_xpath('/html/body/div[19]/div/div/div/div[1]/div[5]/div[1]/div[1]/div/div/div/div[3]/div/div/div[4]/table/tbody/tr/td[2]/form/div[3]/div[3]/input')\n",
      "C:\\Users\\Tom60229\\AppData\\Local\\Temp/ipykernel_24656/3880567339.py:43: DeprecationWarning: find_element_by_* commands are deprecated. Please use find_element() instead\n",
      "  txt_index_Box = browser.find_element_by_xpath('/html/body/div[19]/div/div/div/div[1]/div[5]/div[1]/div[1]/div/div/div/div[3]/div/div/div[4]/table/tbody/tr/td[2]/table/tbody/tr[1]/td/div/div[1]/div[2]/div[3]/div/table/tbody/tr/td[2]/div[2]/div')\n",
      "C:\\Users\\Tom60229\\AppData\\Local\\Temp/ipykernel_24656/3880567339.py:47: DeprecationWarning: find_element_by_* commands are deprecated. Please use find_element() instead\n",
      "  clk_sendbox = browser.find_element_by_id(\":p4\")\n",
      "C:\\Users\\Tom60229\\AppData\\Local\\Temp/ipykernel_24656/3880567339.py:48: DeprecationWarning: find_element_by_* commands are deprecated. Please use find_element() instead\n",
      "  clk_sendbox_sec = browser.find_element_by_id(\":p4\")\n"
     ]
    },
    {
     "ename": "StaleElementReferenceException",
     "evalue": "Message: stale element reference: element is not attached to the page document\n  (Session info: chrome=98.0.4758.102)\nStacktrace:\nBacktrace:\n\tOrdinal0 [0x009369A3+2582947]\n\tOrdinal0 [0x008CA6D1+2139857]\n\tOrdinal0 [0x007C3A98+1063576]\n\tOrdinal0 [0x007C62B7+1073847]\n\tOrdinal0 [0x007C617E+1073534]\n\tOrdinal0 [0x007C63F0+1074160]\n\tOrdinal0 [0x007F0959+1247577]\n\tOrdinal0 [0x007F0A34+1247796]\n\tOrdinal0 [0x007E923B+1217083]\n\tOrdinal0 [0x0080854C+1344844]\n\tOrdinal0 [0x007E6524+1205540]\n\tOrdinal0 [0x008086A4+1345188]\n\tOrdinal0 [0x0081834A+1409866]\n\tOrdinal0 [0x00808366+1344358]\n\tOrdinal0 [0x007E5176+1200502]\n\tOrdinal0 [0x007E6066+1204326]\n\tGetHandleVerifier [0x00ADBE02+1675858]\n\tGetHandleVerifier [0x00B9036C+2414524]\n\tGetHandleVerifier [0x009CBB01+560977]\n\tGetHandleVerifier [0x009CA8D3+556323]\n\tOrdinal0 [0x008D020E+2163214]\n\tOrdinal0 [0x008D5078+2183288]\n\tOrdinal0 [0x008D51C0+2183616]\n\tOrdinal0 [0x008DEE1C+2223644]\n\tBaseThreadInitThunk [0x7668FA29+25]\n\tRtlGetAppContainerNamedObjectPath [0x77137A9E+286]\n\tRtlGetAppContainerNamedObjectPath [0x77137A6E+238]\n",
     "output_type": "error",
     "traceback": [
      "\u001b[1;31m---------------------------------------------------------------------------\u001b[0m",
      "\u001b[1;31mStaleElementReferenceException\u001b[0m            Traceback (most recent call last)",
      "\u001b[1;32m~\\AppData\\Local\\Temp/ipykernel_24656/3880567339.py\u001b[0m in \u001b[0;36m<module>\u001b[1;34m\u001b[0m\n\u001b[0;32m     48\u001b[0m \u001b[0mclk_sendbox_sec\u001b[0m \u001b[1;33m=\u001b[0m \u001b[0mbrowser\u001b[0m\u001b[1;33m.\u001b[0m\u001b[0mfind_element_by_id\u001b[0m\u001b[1;33m(\u001b[0m\u001b[1;34m\":p4\"\u001b[0m\u001b[1;33m)\u001b[0m\u001b[1;33m\u001b[0m\u001b[1;33m\u001b[0m\u001b[0m\n\u001b[0;32m     49\u001b[0m \u001b[0mclk_sendbox\u001b[0m\u001b[1;33m.\u001b[0m\u001b[0msend_keys\u001b[0m\u001b[1;33m(\u001b[0m\u001b[1;34mu'\\ue007'\u001b[0m\u001b[1;33m)\u001b[0m\u001b[1;33m\u001b[0m\u001b[1;33m\u001b[0m\u001b[0m\n\u001b[1;32m---> 50\u001b[1;33m \u001b[0mclk_sendbox\u001b[0m\u001b[1;33m.\u001b[0m\u001b[0msend_keys\u001b[0m\u001b[1;33m(\u001b[0m\u001b[0mKeys\u001b[0m\u001b[1;33m.\u001b[0m\u001b[0mCONTROL\u001b[0m\u001b[1;33m)\u001b[0m\u001b[1;33m\u001b[0m\u001b[1;33m\u001b[0m\u001b[0m\n\u001b[0m\u001b[0;32m     51\u001b[0m \u001b[0mtime\u001b[0m\u001b[1;33m.\u001b[0m\u001b[0msleep\u001b[0m\u001b[1;33m(\u001b[0m\u001b[1;36m2\u001b[0m\u001b[1;33m)\u001b[0m\u001b[1;33m\u001b[0m\u001b[1;33m\u001b[0m\u001b[0m\n\u001b[0;32m     52\u001b[0m \u001b[1;33m\u001b[0m\u001b[0m\n",
      "\u001b[1;32m~\\anaconda3\\lib\\site-packages\\selenium\\webdriver\\remote\\webelement.py\u001b[0m in \u001b[0;36msend_keys\u001b[1;34m(self, *value)\u001b[0m\n\u001b[0;32m    538\u001b[0m                 \u001b[0mvalue\u001b[0m \u001b[1;33m=\u001b[0m \u001b[1;34m'\\n'\u001b[0m\u001b[1;33m.\u001b[0m\u001b[0mjoin\u001b[0m\u001b[1;33m(\u001b[0m\u001b[0mremote_files\u001b[0m\u001b[1;33m)\u001b[0m\u001b[1;33m\u001b[0m\u001b[1;33m\u001b[0m\u001b[0m\n\u001b[0;32m    539\u001b[0m \u001b[1;33m\u001b[0m\u001b[0m\n\u001b[1;32m--> 540\u001b[1;33m         self._execute(Command.SEND_KEYS_TO_ELEMENT,\n\u001b[0m\u001b[0;32m    541\u001b[0m                       {'text': \"\".join(keys_to_typing(value)),\n\u001b[0;32m    542\u001b[0m                        'value': keys_to_typing(value)})\n",
      "\u001b[1;32m~\\anaconda3\\lib\\site-packages\\selenium\\webdriver\\remote\\webelement.py\u001b[0m in \u001b[0;36m_execute\u001b[1;34m(self, command, params)\u001b[0m\n\u001b[0;32m    708\u001b[0m             \u001b[0mparams\u001b[0m \u001b[1;33m=\u001b[0m \u001b[1;33m{\u001b[0m\u001b[1;33m}\u001b[0m\u001b[1;33m\u001b[0m\u001b[1;33m\u001b[0m\u001b[0m\n\u001b[0;32m    709\u001b[0m         \u001b[0mparams\u001b[0m\u001b[1;33m[\u001b[0m\u001b[1;34m'id'\u001b[0m\u001b[1;33m]\u001b[0m \u001b[1;33m=\u001b[0m \u001b[0mself\u001b[0m\u001b[1;33m.\u001b[0m\u001b[0m_id\u001b[0m\u001b[1;33m\u001b[0m\u001b[1;33m\u001b[0m\u001b[0m\n\u001b[1;32m--> 710\u001b[1;33m         \u001b[1;32mreturn\u001b[0m \u001b[0mself\u001b[0m\u001b[1;33m.\u001b[0m\u001b[0m_parent\u001b[0m\u001b[1;33m.\u001b[0m\u001b[0mexecute\u001b[0m\u001b[1;33m(\u001b[0m\u001b[0mcommand\u001b[0m\u001b[1;33m,\u001b[0m \u001b[0mparams\u001b[0m\u001b[1;33m)\u001b[0m\u001b[1;33m\u001b[0m\u001b[1;33m\u001b[0m\u001b[0m\n\u001b[0m\u001b[0;32m    711\u001b[0m \u001b[1;33m\u001b[0m\u001b[0m\n\u001b[0;32m    712\u001b[0m     \u001b[1;32mdef\u001b[0m \u001b[0mfind_element\u001b[0m\u001b[1;33m(\u001b[0m\u001b[0mself\u001b[0m\u001b[1;33m,\u001b[0m \u001b[0mby\u001b[0m\u001b[1;33m=\u001b[0m\u001b[0mBy\u001b[0m\u001b[1;33m.\u001b[0m\u001b[0mID\u001b[0m\u001b[1;33m,\u001b[0m \u001b[0mvalue\u001b[0m\u001b[1;33m=\u001b[0m\u001b[1;32mNone\u001b[0m\u001b[1;33m)\u001b[0m\u001b[1;33m:\u001b[0m\u001b[1;33m\u001b[0m\u001b[1;33m\u001b[0m\u001b[0m\n",
      "\u001b[1;32m~\\anaconda3\\lib\\site-packages\\selenium\\webdriver\\remote\\webdriver.py\u001b[0m in \u001b[0;36mexecute\u001b[1;34m(self, driver_command, params)\u001b[0m\n\u001b[0;32m    422\u001b[0m         \u001b[0mresponse\u001b[0m \u001b[1;33m=\u001b[0m \u001b[0mself\u001b[0m\u001b[1;33m.\u001b[0m\u001b[0mcommand_executor\u001b[0m\u001b[1;33m.\u001b[0m\u001b[0mexecute\u001b[0m\u001b[1;33m(\u001b[0m\u001b[0mdriver_command\u001b[0m\u001b[1;33m,\u001b[0m \u001b[0mparams\u001b[0m\u001b[1;33m)\u001b[0m\u001b[1;33m\u001b[0m\u001b[1;33m\u001b[0m\u001b[0m\n\u001b[0;32m    423\u001b[0m         \u001b[1;32mif\u001b[0m \u001b[0mresponse\u001b[0m\u001b[1;33m:\u001b[0m\u001b[1;33m\u001b[0m\u001b[1;33m\u001b[0m\u001b[0m\n\u001b[1;32m--> 424\u001b[1;33m             \u001b[0mself\u001b[0m\u001b[1;33m.\u001b[0m\u001b[0merror_handler\u001b[0m\u001b[1;33m.\u001b[0m\u001b[0mcheck_response\u001b[0m\u001b[1;33m(\u001b[0m\u001b[0mresponse\u001b[0m\u001b[1;33m)\u001b[0m\u001b[1;33m\u001b[0m\u001b[1;33m\u001b[0m\u001b[0m\n\u001b[0m\u001b[0;32m    425\u001b[0m             response['value'] = self._unwrap_value(\n\u001b[0;32m    426\u001b[0m                 response.get('value', None))\n",
      "\u001b[1;32m~\\anaconda3\\lib\\site-packages\\selenium\\webdriver\\remote\\errorhandler.py\u001b[0m in \u001b[0;36mcheck_response\u001b[1;34m(self, response)\u001b[0m\n\u001b[0;32m    245\u001b[0m                 \u001b[0malert_text\u001b[0m \u001b[1;33m=\u001b[0m \u001b[0mvalue\u001b[0m\u001b[1;33m[\u001b[0m\u001b[1;34m'alert'\u001b[0m\u001b[1;33m]\u001b[0m\u001b[1;33m.\u001b[0m\u001b[0mget\u001b[0m\u001b[1;33m(\u001b[0m\u001b[1;34m'text'\u001b[0m\u001b[1;33m)\u001b[0m\u001b[1;33m\u001b[0m\u001b[1;33m\u001b[0m\u001b[0m\n\u001b[0;32m    246\u001b[0m             \u001b[1;32mraise\u001b[0m \u001b[0mexception_class\u001b[0m\u001b[1;33m(\u001b[0m\u001b[0mmessage\u001b[0m\u001b[1;33m,\u001b[0m \u001b[0mscreen\u001b[0m\u001b[1;33m,\u001b[0m \u001b[0mstacktrace\u001b[0m\u001b[1;33m,\u001b[0m \u001b[0malert_text\u001b[0m\u001b[1;33m)\u001b[0m  \u001b[1;31m# type: ignore[call-arg]  # mypy is not smart enough here\u001b[0m\u001b[1;33m\u001b[0m\u001b[1;33m\u001b[0m\u001b[0m\n\u001b[1;32m--> 247\u001b[1;33m         \u001b[1;32mraise\u001b[0m \u001b[0mexception_class\u001b[0m\u001b[1;33m(\u001b[0m\u001b[0mmessage\u001b[0m\u001b[1;33m,\u001b[0m \u001b[0mscreen\u001b[0m\u001b[1;33m,\u001b[0m \u001b[0mstacktrace\u001b[0m\u001b[1;33m)\u001b[0m\u001b[1;33m\u001b[0m\u001b[1;33m\u001b[0m\u001b[0m\n\u001b[0m\u001b[0;32m    248\u001b[0m \u001b[1;33m\u001b[0m\u001b[0m\n\u001b[0;32m    249\u001b[0m     \u001b[1;32mdef\u001b[0m \u001b[0m_value_or_default\u001b[0m\u001b[1;33m(\u001b[0m\u001b[0mself\u001b[0m\u001b[1;33m,\u001b[0m \u001b[0mobj\u001b[0m\u001b[1;33m:\u001b[0m \u001b[0mMapping\u001b[0m\u001b[1;33m[\u001b[0m\u001b[0m_KT\u001b[0m\u001b[1;33m,\u001b[0m \u001b[0m_VT\u001b[0m\u001b[1;33m]\u001b[0m\u001b[1;33m,\u001b[0m \u001b[0mkey\u001b[0m\u001b[1;33m:\u001b[0m \u001b[0m_KT\u001b[0m\u001b[1;33m,\u001b[0m \u001b[0mdefault\u001b[0m\u001b[1;33m:\u001b[0m \u001b[0m_VT\u001b[0m\u001b[1;33m)\u001b[0m \u001b[1;33m->\u001b[0m \u001b[0m_VT\u001b[0m\u001b[1;33m:\u001b[0m\u001b[1;33m\u001b[0m\u001b[1;33m\u001b[0m\u001b[0m\n",
      "\u001b[1;31mStaleElementReferenceException\u001b[0m: Message: stale element reference: element is not attached to the page document\n  (Session info: chrome=98.0.4758.102)\nStacktrace:\nBacktrace:\n\tOrdinal0 [0x009369A3+2582947]\n\tOrdinal0 [0x008CA6D1+2139857]\n\tOrdinal0 [0x007C3A98+1063576]\n\tOrdinal0 [0x007C62B7+1073847]\n\tOrdinal0 [0x007C617E+1073534]\n\tOrdinal0 [0x007C63F0+1074160]\n\tOrdinal0 [0x007F0959+1247577]\n\tOrdinal0 [0x007F0A34+1247796]\n\tOrdinal0 [0x007E923B+1217083]\n\tOrdinal0 [0x0080854C+1344844]\n\tOrdinal0 [0x007E6524+1205540]\n\tOrdinal0 [0x008086A4+1345188]\n\tOrdinal0 [0x0081834A+1409866]\n\tOrdinal0 [0x00808366+1344358]\n\tOrdinal0 [0x007E5176+1200502]\n\tOrdinal0 [0x007E6066+1204326]\n\tGetHandleVerifier [0x00ADBE02+1675858]\n\tGetHandleVerifier [0x00B9036C+2414524]\n\tGetHandleVerifier [0x009CBB01+560977]\n\tGetHandleVerifier [0x009CA8D3+556323]\n\tOrdinal0 [0x008D020E+2163214]\n\tOrdinal0 [0x008D5078+2183288]\n\tOrdinal0 [0x008D51C0+2183616]\n\tOrdinal0 [0x008DEE1C+2223644]\n\tBaseThreadInitThunk [0x7668FA29+25]\n\tRtlGetAppContainerNamedObjectPath [0x77137A9E+286]\n\tRtlGetAppContainerNamedObjectPath [0x77137A6E+238]\n"
     ]
    }
   ],
   "source": [
    "from selenium import webdriver\n",
    "from selenium.webdriver.common.keys import Keys\n",
    "import time            \n",
    "\n",
    "###進入gmail登入介面\n",
    "browser = webdriver.Chrome()\n",
    "url = 'https://mail.google.com/mail/?tab=km'\n",
    "browser.get(url)                    # 網頁下載至瀏覽器\n",
    "\n",
    "###輸入信箱\n",
    "txtBox = browser.find_element_by_xpath('/html/body/div[1]/div[1]/div[2]/div/div[2]/div/div/div[2]/div/div[1]/div/form/span/section/div/div/div[1]/div/div[1]/div/div[1]/input')\n",
    "txtBox.send_keys('07050135@me.mcu.edu.tw')\n",
    "time.sleep(2)\n",
    "###點擊繼續\n",
    "clk_continue_Box = browser.find_element_by_xpath('/html/body/div[1]/div[1]/div[2]/div/div[2]/div/div/div[2]/div/div[2]/div/div[1]/div/div/button/span')\n",
    "clk_continue_Box.click()\n",
    "time.sleep(1)\n",
    "###輸入密碼\n",
    "txtBox1 = browser.find_element_by_xpath('/html/body/div[1]/div[1]/div[2]/div/div[2]/div/div/div[2]/div/div[1]/div/form/span/section/div/div/div[1]/div[1]/div/div/div/div/div[1]/div/div[1]/input')\n",
    "txtBox1.send_keys('kuo4101133') \n",
    "time.sleep(2)\n",
    "###點擊繼續\n",
    "clk_continue_Box_sec = browser.find_element_by_xpath('/html/body/div[1]/div[1]/div[2]/div/div[2]/div/div/div[2]/div/div[2]/div/div[1]/div/div/button/span')\n",
    "clk_continue_Box_sec.click()\n",
    "time.sleep(2)\n",
    "###點擊撰寫紐\n",
    "clk_continue_Box_sec = browser.find_element_by_xpath('/html/body/div[7]/div[3]/div/div[2]/div[1]/div[1]/div[1]/div/div')\n",
    "clk_continue_Box_sec.click()\n",
    "time.sleep(2)\n",
    "###輸入收信人信箱\n",
    "txt_gmail_Box = browser.find_element_by_xpath('/html/body/div[19]/div/div/div/div[1]/div[5]/div[1]/div[1]/div/div/div/div[3]/div/div/div[4]/table/tbody/tr/td[2]/form/div[1]/table/tbody/tr[1]/td[2]/div/div/div[1]/div/div[3]/div/div/div/div/div/input')\n",
    "txt_gmail_Box.send_keys('qu21709@gmail.com')\n",
    "time.sleep(2)\n",
    "###點選收信人(按下ENTER)\n",
    "clk_send_p_Box = browser.find_element_by_xpath('/html/body/div[19]/div/div/div/div[1]/div[5]/div[1]/div[1]/div/div/div/div[3]/div/div/div[4]/table/tbody/tr/td[2]/form/div[1]/table/tbody/tr[1]/td[2]/div/div/div[1]/div/div[3]/div/div/div/div/div/input')\n",
    "clk_send_p_Box.send_keys(u'\\ue007')\n",
    "time.sleep(2)\n",
    "###輸入標題\n",
    "txt_title_Box = browser.find_element_by_xpath('/html/body/div[19]/div/div/div/div[1]/div[5]/div[1]/div[1]/div/div/div/div[3]/div/div/div[4]/table/tbody/tr/td[2]/form/div[3]/div[3]/input')\n",
    "txt_title_Box.send_keys('該睡囉')\n",
    "time.sleep(2)\n",
    "###輸入信件內容\n",
    "txt_index_Box = browser.find_element_by_xpath('/html/body/div[19]/div/div/div/div[1]/div[5]/div[1]/div[1]/div/div/div/div[3]/div/div/div[4]/table/tbody/tr/td[2]/table/tbody/tr[1]/td/div/div[1]/div[2]/div[3]/div/table/tbody/tr/td[2]/div[2]/div')\n",
    "txt_index_Box.send_keys('_(´ཀ`」 ∠)_')\n",
    "time.sleep(2)\n",
    "###按下傳送紐\n",
    "clk_sendbox = browser.find_element_by_id(\":p4\")\n",
    "clk_sendbox_sec = browser.find_element_by_id(\":p4\")\n",
    "clk_sendbox.send_keys(u'\\ue007')\n",
    "clk_sendbox.send_keys(Keys.CONTROL)\n",
    "time.sleep(2)                                    \n",
    "                                              \n",
    "\n"
   ]
  },
  {
   "cell_type": "code",
   "execution_count": null,
   "id": "799a7f8c",
   "metadata": {},
   "outputs": [],
   "source": []
  }
 ],
 "metadata": {
  "kernelspec": {
   "display_name": "Python 3 (ipykernel)",
   "language": "python",
   "name": "python3"
  },
  "language_info": {
   "codemirror_mode": {
    "name": "ipython",
    "version": 3
   },
   "file_extension": ".py",
   "mimetype": "text/x-python",
   "name": "python",
   "nbconvert_exporter": "python",
   "pygments_lexer": "ipython3",
   "version": "3.9.7"
  }
 },
 "nbformat": 4,
 "nbformat_minor": 5
}
